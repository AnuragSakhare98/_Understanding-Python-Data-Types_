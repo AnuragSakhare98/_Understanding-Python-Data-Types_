{
  "cells": [
    {
      "cell_type": "markdown",
      "metadata": {
        "id": "bNTfUOEPjpMW"
      },
      "source": [
        "**Understanding Python Data Types**"
      ]
    },
    {
      "cell_type": "markdown",
      "metadata": {
        "id": "QdtM-q4EBmW8"
      },
      "source": [
        "**Write a Python program to create a list, a\n",
        "dictionary, and a set. Perform basic operations\n",
        "like adding, removing, and modifying\n",
        "elements.**"
      ]
    },
    {
      "cell_type": "markdown",
      "source": [
        "**List and its Basic Operations**"
      ],
      "metadata": {
        "id": "9E47biVvfvHn"
      }
    },
    {
      "cell_type": "code",
      "execution_count": 25,
      "metadata": {
        "colab": {
          "base_uri": "https://localhost:8080/"
        },
        "id": "2bedSaaZWJ_q",
        "outputId": "354a297e-f0d0-4619-d088-b859b0b3a681"
      },
      "outputs": [
        {
          "output_type": "stream",
          "name": "stdout",
          "text": [
            "List: ['Titanic', 'The GodFather', 'The Shawshank Redemption', 'Pulp Fiction', 'Avatar'] \n",
            "\n",
            "List Length: 5 \n",
            "\n",
            "After accessing 0th element: Titanic \n",
            "\n",
            "After accessing 2nd element: The Shawshank Redemption \n",
            "\n",
            "After Slicing the elements: ['The GodFather', 'The Shawshank Redemption'] \n",
            "\n",
            "After Concatinating new_list with my_list: ['Titanic', 'The GodFather', 'The Shawshank Redemption', 'Pulp Fiction', 'Avatar', 'Forrest Gump', 'Inception', 'Wall of Wolf Street', 'Aviator'] \n",
            "\n",
            "After adding an element to the list: ['Titanic', 'The GodFather', 'The Shawshank Redemption', 'Pulp Fiction', 'Avatar', 'I Spit on your Grave'] \n",
            "\n",
            "After removing an element from the list: ['Titanic', 'The GodFather', 'Pulp Fiction', 'Avatar', 'I Spit on your Grave'] \n",
            "\n",
            "After modifying an element in the list: ['Titanic', 'The GodFather', 'Interstellar', 'Avatar', 'I Spit on your Grave'] \n",
            "\n"
          ]
        }
      ],
      "source": [
        "# Creating a list\n",
        "my_list = ['Titanic', 'The GodFather','The Shawshank Redemption','Pulp Fiction','Avatar']\n",
        "print(\"List:\", my_list,'\\n')\n",
        "\n",
        "# List Length\n",
        "print('List Length:',len(my_list),'\\n')  # Output: 5\n",
        "\n",
        "# Accessing Element\n",
        "print(\"After accessing 0th element:\",my_list[0],'\\n')  # Output: 'Titanic'\n",
        "print(\"After accessing 2nd element:\",my_list[2],'\\n')  # Output: 'The Shawshank Redemption'\n",
        "\n",
        "#Slicing the Elements\n",
        "print('After Slicing the elements:',my_list[1:3],'\\n')  # Output: ['The GodFather','The Shawshank Redemption']\n",
        "\n",
        "# List Concatenation\n",
        "new_list = ['Forrest Gump','Inception', 'Wall of Wolf Street', 'Aviator']\n",
        "concatenated_list = my_list + new_list\n",
        "print('After Concatinating new_list with my_list:',concatenated_list,'\\n')  # Output: [10, 2, 4, 5, 6, 7, 8, 9]\n",
        "\n",
        "# Adding an element to the list\n",
        "my_list.append('I Spit on your Grave')\n",
        "print(\"After adding an element to the list:\", my_list,'\\n')\n",
        "\n",
        "# Removing an element from the list\n",
        "my_list.remove('The Shawshank Redemption')\n",
        "print(\"After removing an element from the list:\", my_list,'\\n')\n",
        "\n",
        "# Modifying an element in the list\n",
        "my_list[2] = 'Interstellar'\n",
        "print(\"After modifying an element in the list:\", my_list,'\\n')\n"
      ]
    },
    {
      "cell_type": "markdown",
      "source": [
        "**Dictionary and its Basic Operations**"
      ],
      "metadata": {
        "id": "5CmPKS7kf1ae"
      }
    },
    {
      "cell_type": "code",
      "execution_count": 26,
      "metadata": {
        "colab": {
          "base_uri": "https://localhost:8080/"
        },
        "id": "-Ifjgz8EWNHq",
        "outputId": "2ca2ec30-a08f-4e72-8e87-01a8b2ba2dcd"
      },
      "outputs": [
        {
          "output_type": "stream",
          "name": "stdout",
          "text": [
            "\n",
            "Dictionary: {'Robert Downey Jr.': 'Iron Man', 'Chris Evan': 'Captain America', 'Chris Hemsworth': 'Thor', 'Tom Hiddelston': 'Loki', 'Sacrlett Johansson': 'Natasha Romanoff', 'Elizabeth Olsen': 'Wanda Maximoff'} \n",
            "\n",
            "Length of Original Dictionary: 6 \n",
            "\n",
            "Accessing only keys of original dictionary: dict_keys(['Robert Downey Jr.', 'Chris Evan', 'Chris Hemsworth', 'Tom Hiddelston', 'Sacrlett Johansson', 'Elizabeth Olsen']) \n",
            "\n",
            "Accessing only values of original dictionary: dict_values(['Iron Man', 'Captain America', 'Thor', 'Loki', 'Natasha Romanoff', 'Wanda Maximoff']) \n",
            "\n",
            "Items of Original Dictionary: dict_items([('Robert Downey Jr.', 'Iron Man'), ('Chris Evan', 'Captain America'), ('Chris Hemsworth', 'Thor'), ('Tom Hiddelston', 'Loki'), ('Sacrlett Johansson', 'Natasha Romanoff'), ('Elizabeth Olsen', 'Wanda Maximoff')]) \n",
            "\n",
            "After accessing 0th element: Iron Man \n",
            "\n",
            "After accessing 4th element: Natasha Romanoff \n",
            "\n",
            "After adding a key-value pair to the dictionary: {'Robert Downey Jr.': 'Iron Man', 'Chris Evan': 'Captain America', 'Chris Hemsworth': 'Thor', 'Tom Hiddelston': 'Loki', 'Sacrlett Johansson': 'Natasha Romanoff', 'Elizabeth Olsen': 'Wanda Maximoff', 'Josh Brolin': 'Thanos', 'Jonathan Majors': 'Kang The Conqueror'} \n",
            "\n",
            "After removing a key-value pair from the dictionary: {'Robert Downey Jr.': 'Iron Man', 'Chris Hemsworth': 'Thor', 'Tom Hiddelston': 'Loki', 'Sacrlett Johansson': 'Natasha Romanoff', 'Elizabeth Olsen': 'Wanda Maximoff', 'Josh Brolin': 'Thanos', 'Jonathan Majors': 'Kang The Conqueror'} \n",
            "\n",
            "After modifying a value in the dictionary: {'Robert Downey Jr.': 'Iron Man', 'Chris Hemsworth': 'Thor', 'Tom Hiddelston': 'Loki', 'Sacrlett Johansson': 'Natasha Romanoff', 'Elizabeth Olsen': 'Wanda Maximoff', 'Josh Brolin': 'Thanos', 'Jonathan Majors': 'Kang The Conqueror', 'Chris Evan': 'Steve Rogers'} \n",
            "\n"
          ]
        }
      ],
      "source": [
        "# Creating a dictionary\n",
        "my_dict = {'Robert Downey Jr.':'Iron Man', 'Chris Evan': 'Captain America', 'Chris Hemsworth':'Thor','Tom Hiddelston': 'Loki','Sacrlett Johansson':'Natasha Romanoff','Elizabeth Olsen':'Wanda Maximoff'}\n",
        "print(\"\\nDictionary:\", my_dict,'\\n')\n",
        "\n",
        "# Dictionary Length\n",
        "print('Length of Original Dictionary:',len(my_dict),'\\n')  # Output: 6\n",
        "\n",
        "#Accessing Keys of orirginal dictionary\n",
        "print('Accessing only keys of original dictionary:',my_dict.keys(),'\\n')\n",
        "\n",
        "#Accessing Values of orirginal dictionary\n",
        "print('Accessing only values of original dictionary:',my_dict.values(),'\\n')\n",
        "\n",
        "# Items of Original Dictionary\n",
        "print('Items of Original Dictionary:',my_dict.items(),'\\n')\n",
        "\n",
        "#Accessing Elements\n",
        "print('After accessing 0th element:',my_dict['Robert Downey Jr.'],'\\n')  # Output: 'Iron Man'\n",
        "print('After accessing 4th element:',my_dict['Sacrlett Johansson'],'\\n')   # Output: 'Natasha Romanoff'\n",
        "\n",
        "# Adding a key-value pair to the dictionary\n",
        "my_dict['Josh Brolin'] = 'Thanos'\n",
        "my_dict['Jonathan Majors'] = 'Kang The Conqueror'\n",
        "print(\"After adding a key-value pair to the dictionary:\", my_dict,'\\n')\n",
        "\n",
        "# Removing a key-value pair from the dictionary\n",
        "del my_dict['Chris Evan']\n",
        "print(\"After removing a key-value pair from the dictionary:\", my_dict,'\\n')\n",
        "\n",
        "# Modifying a value in the dictionary\n",
        "my_dict['Chris Evan'] = 'Steve Rogers'\n",
        "print(\"After modifying a value in the dictionary:\", my_dict,'\\n')"
      ]
    },
    {
      "cell_type": "markdown",
      "source": [
        "**Set and its Basic Operations**"
      ],
      "metadata": {
        "id": "OwpEc4mtf8-P"
      }
    },
    {
      "cell_type": "code",
      "execution_count": 27,
      "metadata": {
        "colab": {
          "base_uri": "https://localhost:8080/"
        },
        "id": "cWg9Gb7Jg3w0",
        "outputId": "aa656356-e36c-4c81-9089-a291e77ea8b6"
      },
      "outputs": [
        {
          "output_type": "stream",
          "name": "stdout",
          "text": [
            "\n",
            "Set: {1, 2, 3, 4, 5}\n",
            "After adding an element to the set: {1, 2, 3, 4, 5, 6}\n",
            "After removing an element from the set: {1, 2, 4, 5, 6}\n"
          ]
        }
      ],
      "source": [
        "# Creating a set\n",
        "my_set = {1, 2, 3, 4, 5}\n",
        "print(\"\\nSet:\", my_set)\n",
        "\n",
        "# Adding an element to the set\n",
        "my_set.add(6)\n",
        "print(\"After adding an element to the set:\", my_set)\n",
        "\n",
        "# Removing an element from the set\n",
        "my_set.remove(3)\n",
        "print(\"After removing an element from the set:\", my_set)\n"
      ]
    },
    {
      "cell_type": "code",
      "execution_count": null,
      "metadata": {
        "id": "tfPYDQJ1BpjK"
      },
      "outputs": [],
      "source": []
    }
  ],
  "metadata": {
    "colab": {
      "provenance": []
    },
    "kernelspec": {
      "display_name": "Python 3",
      "name": "python3"
    },
    "language_info": {
      "name": "python"
    }
  },
  "nbformat": 4,
  "nbformat_minor": 0
}